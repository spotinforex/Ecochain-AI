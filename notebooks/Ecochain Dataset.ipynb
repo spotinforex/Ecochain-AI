{
 "cells": [
  {
   "cell_type": "code",
   "execution_count": 11,
   "id": "8b23e58b-56c9-4e80-a3ca-ff0aaf4ec360",
   "metadata": {},
   "outputs": [
    {
     "name": "stdout",
     "output_type": "stream",
     "text": [
      "Connected to project: ecochain123\n",
      "Dataset Created Successfully: supplychain in US\n"
     ]
    }
   ],
   "source": [
    "from google.cloud import bigquery\n",
    "import os\n",
    "\n",
    "try:\n",
    "    # Authenticate with service account\n",
    "    os.environ[\"GOOGLE_APPLICATION_CREDENTIALS\"] = r\"C:\\Users\\SPOT\\Documents\\Ecochain\\ecochain_secret.json\"\n",
    "    \n",
    "    # Initialize client\n",
    "    client = bigquery.Client(project=\"ecochain123\")\n",
    "    print(f\"Connected to project: {client.project}\")\n",
    "    \n",
    "    # Create dataset (supplychain) in US region\n",
    "    dataset_id = f\"{client.project}.supplychain\"\n",
    "    dataset = bigquery.Dataset(dataset_id)\n",
    "    dataset.location = \"US\"\n",
    "    \n",
    "    dataset = client.create_dataset(dataset, exists_ok=True)\n",
    "    print(f\"Dataset Created Successfully: {dataset.dataset_id} in {dataset.location}\")\n",
    "    \n",
    "except Exception as e:\n",
    "    print(f\"Failed to Create Dataset: {e}\")"
   ]
  },
  {
   "cell_type": "markdown",
   "id": "654b0600-1dad-46ad-82c5-704348f2d8bd",
   "metadata": {},
   "source": [
    "OPEN YOUR GOOGLE CLOUD SDK TERMINAL AND RUN THIS TO CREATE A CONNECTION "
   ]
  },
  {
   "cell_type": "markdown",
   "id": "a545ab4d-d415-4f92-a683-01f82318c1b8",
   "metadata": {},
   "source": [
    "bq mk --connection --connection_type=CLOUD_RESOURCE --location=US test_connection"
   ]
  },
  {
   "cell_type": "markdown",
   "id": "bf458051-fec3-4824-a543-0e0d36aa5ba8",
   "metadata": {},
   "source": [
    "NOTE YOUR CONNECTION DETAILS"
   ]
  },
  {
   "cell_type": "markdown",
   "id": "88c9ce73-7afc-4cb7-afdd-d90d9e3148af",
   "metadata": {},
   "source": [
    "THEN RUN THIS IN YOUR CLOUD SDK TERMINAL TO ENABLE PERMISSION TO USE VERTEX MODELS"
   ]
  },
  {
   "cell_type": "markdown",
   "id": "f1be22b6-a453-4442-b0b9-737479605e0f",
   "metadata": {},
   "source": [
    "gcloud projects add-iam-policy-binding ecochain123 --member=\"serviceAccount:bqcx-141077011867-bnp6@gcp-sa-bigquery-condel.iam.gserviceaccount.com\" --role=\"roles/aiplatform.user\""
   ]
  },
  {
   "cell_type": "markdown",
   "id": "c4332084-df3b-401c-8744-624fc2950f69",
   "metadata": {},
   "source": [
    "Loading the synthetic dataset"
   ]
  },
  {
   "cell_type": "code",
   "execution_count": 2,
   "id": "50ec33f1-557e-490a-ad12-f6d035962973",
   "metadata": {},
   "outputs": [],
   "source": [
    "import pandas as pd\n",
    "data = pd.read_csv(\"C:/Users/SPOT/Documents/Ecochain/ecochain_suppliers.csv\")"
   ]
  },
  {
   "cell_type": "code",
   "execution_count": 5,
   "id": "8ba0f6d8-27a3-4afb-b33c-9425baf9e8ea",
   "metadata": {},
   "outputs": [
    {
     "name": "stderr",
     "output_type": "stream",
     "text": [
      "C:\\Users\\SPOT\\Documents\\churn\\Lib\\site-packages\\google\\cloud\\bigquery\\_pandas_helpers.py:484: FutureWarning: Loading pandas DataFrame into BigQuery will require pandas-gbq package version 0.26.1 or greater in the future. Tried to import pandas-gbq and got: No module named 'pandas_gbq'\n",
      "  warnings.warn(\n"
     ]
    },
    {
     "name": "stdout",
     "output_type": "stream",
     "text": [
      "Loaded 5000 rows into ecochain123.supplychain.suppliers.\n"
     ]
    }
   ],
   "source": [
    "# Constructing Full Table ID\n",
    "table_ref = f\"{dataset_id}.suppliers\"\n",
    "\n",
    "#setting up the load job config\n",
    "job_config = bigquery.LoadJobConfig(\n",
    "    write_disposition=bigquery.WriteDisposition.WRITE_TRUNCATE)\n",
    "\n",
    "job = client.load_table_from_dataframe(\n",
    "    data, table_ref, job_config = job_config\n",
    ")\n",
    "\n",
    "job.result()\n",
    "\n",
    "print(f\"Loaded {job.output_rows} rows into {table_ref}.\")"
   ]
  },
  {
   "cell_type": "markdown",
   "id": "29894b96-9db5-4661-be9a-8f499b03c04d",
   "metadata": {},
   "source": [
    "Creating Models In Bigquery"
   ]
  },
  {
   "cell_type": "code",
   "execution_count": 2,
   "id": "40f85fd5-1ba3-4f67-93a5-c4daad489bf3",
   "metadata": {},
   "outputs": [
    {
     "name": "stdout",
     "output_type": "stream",
     "text": [
      "Model Created Successfully\n"
     ]
    }
   ],
   "source": [
    "try:\n",
    "    query = \"\"\"\n",
    "        CREATE OR REPLACE MODEL `ecochain123.supplychain.gemini_model`\n",
    "        REMOTE WITH CONNECTION `141077011867.us.test_connection` \n",
    "        OPTIONS (endpoint = 'gemini-2.5-flash'); \n",
    "    \"\"\"\n",
    "    job = client.query(query)\n",
    "    job.result()  # wait for completion\n",
    "    print('Model Created Successfully')\n",
    "\n",
    "except Exception as e:\n",
    "    print(f'An Error Occurred When Creating Model: {e}')\n"
   ]
  },
  {
   "cell_type": "code",
   "execution_count": 57,
   "id": "b52c02d1-471e-4b96-9a32-190e9831393c",
   "metadata": {},
   "outputs": [
    {
     "name": "stdout",
     "output_type": "stream",
     "text": [
      "Model Created Successfully\n"
     ]
    }
   ],
   "source": [
    "try:\n",
    "    query = \"\"\"\n",
    "        CREATE OR REPLACE MODEL `ecochain123.supplychain.embedding_model`\n",
    "        REMOTE WITH CONNECTION `141077011867.us.test_connection` \n",
    "        OPTIONS (endpoint = 'gemini-embedding-001'); \n",
    "    \"\"\"\n",
    "    job = client.query(query)\n",
    "    job.result()  # wait for completion\n",
    "    print('Model Created Successfully')\n",
    "\n",
    "except Exception as e:\n",
    "    print(f'An Error Occurred When Creating Model: {e}')"
   ]
  },
  {
   "cell_type": "code",
   "execution_count": 12,
   "id": "d62610a4-b08f-4558-a4f2-08835dfb0566",
   "metadata": {},
   "outputs": [
    {
     "name": "stdout",
     "output_type": "stream",
     "text": [
      "The google.cloud.bigquery extension is already loaded. To reload it, use:\n",
      "  %reload_ext google.cloud.bigquery\n"
     ]
    }
   ],
   "source": [
    "%load_ext google.cloud.bigquery\n",
    "\n",
    "PROJECT_ID = \"ecochain123\""
   ]
  },
  {
   "cell_type": "code",
   "execution_count": 4,
   "id": "39f62ad1-b8f7-4f74-bd81-44c4d28dc445",
   "metadata": {},
   "outputs": [
    {
     "data": {
      "application/vnd.jupyter.widget-view+json": {
       "model_id": "759cffda6e1f4685a5e44366c52859d4",
       "version_major": 2,
       "version_minor": 0
      },
      "text/plain": [
       "Query is running:   0%|          |"
      ]
     },
     "metadata": {},
     "output_type": "display_data"
    },
    {
     "data": {
      "application/vnd.jupyter.widget-view+json": {
       "model_id": "0b543e98a7704f79bd6117767f107d04",
       "version_major": 2,
       "version_minor": 0
      },
      "text/plain": [
       "Downloading:   0%|          |"
      ]
     },
     "metadata": {},
     "output_type": "display_data"
    },
    {
     "data": {
      "text/html": [
       "<div>\n",
       "<style scoped>\n",
       "    .dataframe tbody tr th:only-of-type {\n",
       "        vertical-align: middle;\n",
       "    }\n",
       "\n",
       "    .dataframe tbody tr th {\n",
       "        vertical-align: top;\n",
       "    }\n",
       "\n",
       "    .dataframe thead th {\n",
       "        text-align: right;\n",
       "    }\n",
       "</style>\n",
       "<table border=\"1\" class=\"dataframe\">\n",
       "  <thead>\n",
       "    <tr style=\"text-align: right;\">\n",
       "      <th></th>\n",
       "      <th>supplier_id</th>\n",
       "      <th>supplier_name</th>\n",
       "      <th>country</th>\n",
       "      <th>region</th>\n",
       "      <th>product_category</th>\n",
       "      <th>sub_category</th>\n",
       "      <th>total_eco_score</th>\n",
       "      <th>carbon_score</th>\n",
       "      <th>water_score</th>\n",
       "      <th>waste_score</th>\n",
       "      <th>social_score</th>\n",
       "      <th>certification</th>\n",
       "      <th>partnership_status</th>\n",
       "      <th>annual_volume</th>\n",
       "      <th>cost_premium</th>\n",
       "      <th>risk_level</th>\n",
       "      <th>last_audit</th>\n",
       "      <th>audit_summary</th>\n",
       "      <th>text_embedding</th>\n",
       "    </tr>\n",
       "  </thead>\n",
       "  <tbody>\n",
       "    <tr>\n",
       "      <th>0</th>\n",
       "      <td>SUP0221</td>\n",
       "      <td>Eaton, Long and Smith</td>\n",
       "      <td>Argentina</td>\n",
       "      <td>Americas</td>\n",
       "      <td>Chemicals</td>\n",
       "      <td>Biodegradable Detergents</td>\n",
       "      <td>71.15</td>\n",
       "      <td>46.85</td>\n",
       "      <td>19.38</td>\n",
       "      <td>96.67</td>\n",
       "      <td>38.38</td>\n",
       "      <td>ISO14001, Rainforest Alliance</td>\n",
       "      <td>Inactive</td>\n",
       "      <td>620485</td>\n",
       "      <td>7.25</td>\n",
       "      <td>Medium</td>\n",
       "      <td>2023-07-02</td>\n",
       "      <td>ISO14001 compliance confirmed; Rainforest Alli...</td>\n",
       "      <td>[]</td>\n",
       "    </tr>\n",
       "  </tbody>\n",
       "</table>\n",
       "</div>"
      ],
      "text/plain": [
       "  supplier_id          supplier_name    country    region product_category  \\\n",
       "0     SUP0221  Eaton, Long and Smith  Argentina  Americas        Chemicals   \n",
       "\n",
       "               sub_category  total_eco_score  carbon_score  water_score  \\\n",
       "0  Biodegradable Detergents            71.15         46.85        19.38   \n",
       "\n",
       "   waste_score  social_score                  certification  \\\n",
       "0        96.67         38.38  ISO14001, Rainforest Alliance   \n",
       "\n",
       "  partnership_status  annual_volume  cost_premium risk_level  last_audit  \\\n",
       "0           Inactive         620485          7.25     Medium  2023-07-02   \n",
       "\n",
       "                                       audit_summary text_embedding  \n",
       "0  ISO14001 compliance confirmed; Rainforest Alli...             []  "
      ]
     },
     "execution_count": 4,
     "metadata": {},
     "output_type": "execute_result"
    }
   ],
   "source": [
    "%%bigquery --project {PROJECT_ID}\n",
    "\n",
    "SELECT * FROM `ecochain123.supplychain.suppliers`\n",
    "LIMIT 1"
   ]
  },
  {
   "cell_type": "markdown",
   "id": "243c1613-06b6-4f71-ba95-1ae96722f887",
   "metadata": {},
   "source": [
    "Converting Embedding Columns For Similarity Search"
   ]
  },
  {
   "cell_type": "code",
   "execution_count": 21,
   "id": "d8b069bb-2d8c-4c8e-a4ac-70f774ac0b56",
   "metadata": {},
   "outputs": [
    {
     "data": {
      "application/vnd.jupyter.widget-view+json": {
       "model_id": "1e9fe63069c341c28c837a291bfdf347",
       "version_major": 2,
       "version_minor": 0
      },
      "text/plain": [
       "Query is running:   0%|          |"
      ]
     },
     "metadata": {},
     "output_type": "display_data"
    },
    {
     "data": {
      "text/html": [
       "<div>\n",
       "<style scoped>\n",
       "    .dataframe tbody tr th:only-of-type {\n",
       "        vertical-align: middle;\n",
       "    }\n",
       "\n",
       "    .dataframe tbody tr th {\n",
       "        vertical-align: top;\n",
       "    }\n",
       "\n",
       "    .dataframe thead th {\n",
       "        text-align: right;\n",
       "    }\n",
       "</style>\n",
       "<table border=\"1\" class=\"dataframe\">\n",
       "  <thead>\n",
       "    <tr style=\"text-align: right;\">\n",
       "      <th></th>\n",
       "    </tr>\n",
       "  </thead>\n",
       "  <tbody>\n",
       "  </tbody>\n",
       "</table>\n",
       "</div>"
      ],
      "text/plain": [
       "Empty DataFrame\n",
       "Columns: []\n",
       "Index: []"
      ]
     },
     "execution_count": 21,
     "metadata": {},
     "output_type": "execute_result"
    }
   ],
   "source": [
    "%%bigquery --project {PROJECT_ID}\n",
    "\n",
    "ALTER TABLE `ecochain123.supplychain.suppliers`\n",
    "ADD COLUMN text_embedding ARRAY<FLOAT64>"
   ]
  },
  {
   "cell_type": "code",
   "execution_count": 7,
   "id": "ccc2611d-c6c4-4e9c-ac97-aaafb89e8cfb",
   "metadata": {},
   "outputs": [
    {
     "data": {
      "application/vnd.jupyter.widget-view+json": {
       "model_id": "c2c8d82b4fe947de982f984f2e9342d3",
       "version_major": 2,
       "version_minor": 0
      },
      "text/plain": [
       "Query is running:   0%|          |"
      ]
     },
     "metadata": {},
     "output_type": "display_data"
    },
    {
     "data": {
      "text/html": [
       "<div>\n",
       "<style scoped>\n",
       "    .dataframe tbody tr th:only-of-type {\n",
       "        vertical-align: middle;\n",
       "    }\n",
       "\n",
       "    .dataframe tbody tr th {\n",
       "        vertical-align: top;\n",
       "    }\n",
       "\n",
       "    .dataframe thead th {\n",
       "        text-align: right;\n",
       "    }\n",
       "</style>\n",
       "<table border=\"1\" class=\"dataframe\">\n",
       "  <thead>\n",
       "    <tr style=\"text-align: right;\">\n",
       "      <th></th>\n",
       "    </tr>\n",
       "  </thead>\n",
       "  <tbody>\n",
       "  </tbody>\n",
       "</table>\n",
       "</div>"
      ],
      "text/plain": [
       "Empty DataFrame\n",
       "Columns: []\n",
       "Index: []"
      ]
     },
     "execution_count": 7,
     "metadata": {},
     "output_type": "execute_result"
    }
   ],
   "source": [
    "%%bigquery --project {PROJECT_ID}\n",
    "\n",
    "CREATE OR REPLACE TABLE `ecochain123.supplychain.suppliers_embeddings` AS\n",
    "SELECT\n",
    "  supplier_id,\n",
    "  ml_generate_embedding_result AS text_embedding\n",
    "FROM\n",
    "  ML.GENERATE_EMBEDDING(\n",
    "    MODEL `ecochain123.supplychain.embedding_model`,\n",
    "    (\n",
    "      SELECT\n",
    "        supplier_id,\n",
    "        CONCAT(\n",
    "          \"Category: \", product_category, \"; \",\n",
    "          \"Sub-category: \", sub_category, \"; \",\n",
    "          \"Certification: \", certification, \"; \",\n",
    "          \"Audit: \", audit_summary\n",
    "        ) AS content\n",
    "      FROM `ecochain123.supplychain.suppliers`\n",
    "    ),\n",
    "    STRUCT(TRUE AS flatten_json_output)\n",
    "  );"
   ]
  },
  {
   "cell_type": "code",
   "execution_count": 8,
   "id": "6df58fcb-723e-44ac-8901-7f82caa41fde",
   "metadata": {},
   "outputs": [
    {
     "data": {
      "application/vnd.jupyter.widget-view+json": {
       "model_id": "d23572e9521c48518e80ca11b5d30133",
       "version_major": 2,
       "version_minor": 0
      },
      "text/plain": [
       "Query is running:   0%|          |"
      ]
     },
     "metadata": {},
     "output_type": "display_data"
    },
    {
     "data": {
      "text/html": [
       "<div>\n",
       "<style scoped>\n",
       "    .dataframe tbody tr th:only-of-type {\n",
       "        vertical-align: middle;\n",
       "    }\n",
       "\n",
       "    .dataframe tbody tr th {\n",
       "        vertical-align: top;\n",
       "    }\n",
       "\n",
       "    .dataframe thead th {\n",
       "        text-align: right;\n",
       "    }\n",
       "</style>\n",
       "<table border=\"1\" class=\"dataframe\">\n",
       "  <thead>\n",
       "    <tr style=\"text-align: right;\">\n",
       "      <th></th>\n",
       "    </tr>\n",
       "  </thead>\n",
       "  <tbody>\n",
       "  </tbody>\n",
       "</table>\n",
       "</div>"
      ],
      "text/plain": [
       "Empty DataFrame\n",
       "Columns: []\n",
       "Index: []"
      ]
     },
     "execution_count": 8,
     "metadata": {},
     "output_type": "execute_result"
    }
   ],
   "source": [
    "%%bigquery --project {PROJECT_ID}\n",
    "\n",
    "UPDATE `ecochain123.supplychain.suppliers` t\n",
    "SET t.text_embedding = s.text_embedding\n",
    "FROM `ecochain123.supplychain.suppliers_embeddings` s\n",
    "WHERE t.supplier_id = s.supplier_id;"
   ]
  },
  {
   "cell_type": "code",
   "execution_count": 9,
   "id": "e9baaeed-b3d3-4001-ab49-27695ab02a90",
   "metadata": {},
   "outputs": [
    {
     "data": {
      "application/vnd.jupyter.widget-view+json": {
       "model_id": "79763e84efe64a8e89385dc7026bd42f",
       "version_major": 2,
       "version_minor": 0
      },
      "text/plain": [
       "Query is running:   0%|          |"
      ]
     },
     "metadata": {},
     "output_type": "display_data"
    },
    {
     "data": {
      "application/vnd.jupyter.widget-view+json": {
       "model_id": "ac574402139e4c0588c48501dd7f2854",
       "version_major": 2,
       "version_minor": 0
      },
      "text/plain": [
       "Downloading:   0%|          |"
      ]
     },
     "metadata": {},
     "output_type": "display_data"
    },
    {
     "data": {
      "text/html": [
       "<div>\n",
       "<style scoped>\n",
       "    .dataframe tbody tr th:only-of-type {\n",
       "        vertical-align: middle;\n",
       "    }\n",
       "\n",
       "    .dataframe tbody tr th {\n",
       "        vertical-align: top;\n",
       "    }\n",
       "\n",
       "    .dataframe thead th {\n",
       "        text-align: right;\n",
       "    }\n",
       "</style>\n",
       "<table border=\"1\" class=\"dataframe\">\n",
       "  <thead>\n",
       "    <tr style=\"text-align: right;\">\n",
       "      <th></th>\n",
       "      <th>supplier_id</th>\n",
       "      <th>supplier_name</th>\n",
       "      <th>country</th>\n",
       "      <th>region</th>\n",
       "      <th>product_category</th>\n",
       "      <th>sub_category</th>\n",
       "      <th>total_eco_score</th>\n",
       "      <th>carbon_score</th>\n",
       "      <th>water_score</th>\n",
       "      <th>waste_score</th>\n",
       "      <th>social_score</th>\n",
       "      <th>certification</th>\n",
       "      <th>partnership_status</th>\n",
       "      <th>annual_volume</th>\n",
       "      <th>cost_premium</th>\n",
       "      <th>risk_level</th>\n",
       "      <th>last_audit</th>\n",
       "      <th>audit_summary</th>\n",
       "      <th>text_embedding</th>\n",
       "    </tr>\n",
       "  </thead>\n",
       "  <tbody>\n",
       "    <tr>\n",
       "      <th>0</th>\n",
       "      <td>SUP1896</td>\n",
       "      <td>Jenkins, Ellison and Lowe</td>\n",
       "      <td>Argentina</td>\n",
       "      <td>Americas</td>\n",
       "      <td>Chemicals</td>\n",
       "      <td>Biodegradable Detergents</td>\n",
       "      <td>92.32</td>\n",
       "      <td>52.74</td>\n",
       "      <td>84.75</td>\n",
       "      <td>46.23</td>\n",
       "      <td>95.63</td>\n",
       "      <td>Fair Trade, B-Corp, ISO14001</td>\n",
       "      <td>Under Review</td>\n",
       "      <td>220054</td>\n",
       "      <td>3.74</td>\n",
       "      <td>Medium</td>\n",
       "      <td>2021-03-28</td>\n",
       "      <td>ISO14001 compliance confirmed; Fair Trade prac...</td>\n",
       "      <td>[0.02262956276535988, -0.014745780266821384, 0...</td>\n",
       "    </tr>\n",
       "  </tbody>\n",
       "</table>\n",
       "</div>"
      ],
      "text/plain": [
       "  supplier_id              supplier_name    country    region  \\\n",
       "0     SUP1896  Jenkins, Ellison and Lowe  Argentina  Americas   \n",
       "\n",
       "  product_category              sub_category  total_eco_score  carbon_score  \\\n",
       "0        Chemicals  Biodegradable Detergents            92.32         52.74   \n",
       "\n",
       "   water_score  waste_score  social_score                 certification  \\\n",
       "0        84.75        46.23         95.63  Fair Trade, B-Corp, ISO14001   \n",
       "\n",
       "  partnership_status  annual_volume  cost_premium risk_level  last_audit  \\\n",
       "0       Under Review         220054          3.74     Medium  2021-03-28   \n",
       "\n",
       "                                       audit_summary  \\\n",
       "0  ISO14001 compliance confirmed; Fair Trade prac...   \n",
       "\n",
       "                                      text_embedding  \n",
       "0  [0.02262956276535988, -0.014745780266821384, 0...  "
      ]
     },
     "execution_count": 9,
     "metadata": {},
     "output_type": "execute_result"
    }
   ],
   "source": [
    "%%bigquery --project {PROJECT_ID}\n",
    "\n",
    "SELECT * FROM `ecochain123.supplychain.suppliers`\n",
    "LIMIT 1"
   ]
  },
  {
   "cell_type": "markdown",
   "id": "755e7e5e-89a1-4e15-8a70-f9483ab419fb",
   "metadata": {},
   "source": [
    "Creating A GCS Bucket and adding prduct images to it, Due to the large amount of rows, images were grouped by subcategory"
   ]
  },
  {
   "cell_type": "markdown",
   "id": "3895a368-465b-4cee-9340-2283e53659d3",
   "metadata": {},
   "source": [
    "Ensure google-cloud-storage is installed "
   ]
  },
  {
   "cell_type": "code",
   "execution_count": null,
   "id": "b988889e-a024-4b3e-9906-33eb560d7253",
   "metadata": {
    "scrolled": true
   },
   "outputs": [],
   "source": [
    "# Creating Bucket \n",
    "from google.cloud import storage\n",
    "\n",
    "try:\n",
    "    gcs_client = storage.Client()\n",
    "    bucket_name = \"ecochain-product-images\"\n",
    "    bucket = gcs_client.bucket(bucket_name)\n",
    "    bucket.location = \"US\"\n",
    "    bucket = gcs_client.create_bucket(bucket)\n",
    "    \n",
    "    # Upload images from local folder\n",
    "    folder_path = \"C:/Users/SPOT/Documents/Ecochain/Product images\"\n",
    "    for file_name in os.listdir(folder_path):\n",
    "        blob = bucket.blob(file_name)\n",
    "        blob.upload_from_filename(os.path.join(folder_path, file_name))\n",
    "        blob.make_public()  # make individual file public\n",
    "        print(f\"Public URL: {blob.public_url}\")\n",
    "\n",
    "except Exception as e:\n",
    "    print(f'An Error Occurred: {e}')"
   ]
  },
  {
   "cell_type": "code",
   "execution_count": 16,
   "id": "5c05d8e2-fd4a-4452-8b10-aee0013814f3",
   "metadata": {},
   "outputs": [
    {
     "data": {
      "application/vnd.jupyter.widget-view+json": {
       "model_id": "ed16c40009074a66adc19fac130a5347",
       "version_major": 2,
       "version_minor": 0
      },
      "text/plain": [
       "Query is running:   0%|          |"
      ]
     },
     "metadata": {},
     "output_type": "display_data"
    },
    {
     "data": {
      "text/html": [
       "<div>\n",
       "<style scoped>\n",
       "    .dataframe tbody tr th:only-of-type {\n",
       "        vertical-align: middle;\n",
       "    }\n",
       "\n",
       "    .dataframe tbody tr th {\n",
       "        vertical-align: top;\n",
       "    }\n",
       "\n",
       "    .dataframe thead th {\n",
       "        text-align: right;\n",
       "    }\n",
       "</style>\n",
       "<table border=\"1\" class=\"dataframe\">\n",
       "  <thead>\n",
       "    <tr style=\"text-align: right;\">\n",
       "      <th></th>\n",
       "    </tr>\n",
       "  </thead>\n",
       "  <tbody>\n",
       "  </tbody>\n",
       "</table>\n",
       "</div>"
      ],
      "text/plain": [
       "Empty DataFrame\n",
       "Columns: []\n",
       "Index: []"
      ]
     },
     "execution_count": 16,
     "metadata": {},
     "output_type": "execute_result"
    }
   ],
   "source": [
    "%%bigquery --project {PROJECT_ID}\n",
    "\n",
    "CREATE OR REPLACE EXTERNAL TABLE `ecochain123.supplychain.object_images`\n",
    "WITH CONNECTION `us.test_connection`\n",
    "OPTIONS (\n",
    "  object_metadata = 'SIMPLE',\n",
    "  uris = ['gs://ecochain-product-images/*'] \n",
    ");"
   ]
  },
  {
   "cell_type": "markdown",
   "id": "b627ab1e-0f8c-4115-9b14-02a9bd4bad55",
   "metadata": {},
   "source": [
    "Renamed Columns to align with the sub category column in the suppliers dataset"
   ]
  },
  {
   "cell_type": "code",
   "execution_count": 50,
   "id": "c094d85d-79ee-42c2-8ed5-658af5edfe5b",
   "metadata": {},
   "outputs": [
    {
     "name": "stdout",
     "output_type": "stream",
     "text": [
      "Renamed biodegradable detergent.jpeg → biodegradable detergents.jpeg\n",
      "Renamed coffe.jpeg → coffee.jpeg\n",
      "Renamed green solvent.jpeg → green solvents.jpeg\n"
     ]
    }
   ],
   "source": [
    "import difflib\n",
    "\n",
    "BUCKET_NAME = \"ecochain-product-images\"\n",
    "\n",
    "# Get list of subcategories from BigQuery\n",
    "query = \"\"\"\n",
    "SELECT DISTINCT sub_category\n",
    "FROM `ecochain123.supplychain.suppliers`\n",
    "\"\"\"\n",
    "subcategories = [row.sub_category.lower() for row in client.query(query)]\n",
    "\n",
    "# Get all files in bucket\n",
    "bucket = gcs_client.bucket(BUCKET_NAME)\n",
    "blobs = list(bucket.list_blobs())\n",
    "\n",
    "filenames = [blob.name.lower() for blob in blobs]\n",
    "\n",
    "for subcat in subcategories:\n",
    "    expected_file = f\"{subcat}.jpeg\"\n",
    "\n",
    "    if expected_file not in filenames:\n",
    "        # Find close matches in existing files\n",
    "        match = difflib.get_close_matches(expected_file, filenames, n=1, cutoff=0.7)\n",
    "        if match:\n",
    "            old_blob = bucket.blob(match[0])\n",
    "            new_blob = bucket.blob(expected_file)\n",
    "\n",
    "            # Copy and delete old file\n",
    "            bucket.copy_blob(old_blob, bucket, new_blob.name)\n",
    "            old_blob.delete()\n",
    "\n",
    "            print(f\"Renamed {match[0]} → {expected_file}\")\n",
    "        else:\n",
    "            print(f\"⚠️ No match found for {expected_file}\")\n"
   ]
  },
  {
   "cell_type": "code",
   "execution_count": 17,
   "id": "4840460a-9c56-4520-a73e-b903c5788c4c",
   "metadata": {
    "scrolled": true
   },
   "outputs": [
    {
     "data": {
      "application/vnd.jupyter.widget-view+json": {
       "model_id": "31fc07d956ca4ace9b9504ab5ae586e4",
       "version_major": 2,
       "version_minor": 0
      },
      "text/plain": [
       "Query is running:   0%|          |"
      ]
     },
     "metadata": {},
     "output_type": "display_data"
    },
    {
     "data": {
      "application/vnd.jupyter.widget-view+json": {
       "model_id": "e0ae45a416a34b40b94ea71ca5ba5b20",
       "version_major": 2,
       "version_minor": 0
      },
      "text/plain": [
       "Downloading:   0%|          |"
      ]
     },
     "metadata": {},
     "output_type": "display_data"
    },
    {
     "data": {
      "text/html": [
       "<div>\n",
       "<style scoped>\n",
       "    .dataframe tbody tr th:only-of-type {\n",
       "        vertical-align: middle;\n",
       "    }\n",
       "\n",
       "    .dataframe tbody tr th {\n",
       "        vertical-align: top;\n",
       "    }\n",
       "\n",
       "    .dataframe thead th {\n",
       "        text-align: right;\n",
       "    }\n",
       "</style>\n",
       "<table border=\"1\" class=\"dataframe\">\n",
       "  <thead>\n",
       "    <tr style=\"text-align: right;\">\n",
       "      <th></th>\n",
       "      <th>uri</th>\n",
       "      <th>generation</th>\n",
       "      <th>content_type</th>\n",
       "      <th>size</th>\n",
       "      <th>md5_hash</th>\n",
       "      <th>updated</th>\n",
       "      <th>metadata</th>\n",
       "      <th>ref</th>\n",
       "    </tr>\n",
       "  </thead>\n",
       "  <tbody>\n",
       "    <tr>\n",
       "      <th>0</th>\n",
       "      <td>gs://ecochain-product-images/biodegradable det...</td>\n",
       "      <td>1756736837757144</td>\n",
       "      <td>image/jpeg</td>\n",
       "      <td>5103</td>\n",
       "      <td>76e2c9daef15f35e90e3bdb941a3b34f</td>\n",
       "      <td>2025-09-01 14:27:25.161000+00:00</td>\n",
       "      <td>[]</td>\n",
       "      <td>{'uri': 'gs://ecochain-product-images/biodegra...</td>\n",
       "    </tr>\n",
       "    <tr>\n",
       "      <th>1</th>\n",
       "      <td>gs://ecochain-product-images/cocoa.jpeg</td>\n",
       "      <td>1756736851255922</td>\n",
       "      <td>image/jpeg</td>\n",
       "      <td>11895</td>\n",
       "      <td>6c95b9922058337e008d6d92134f7e27</td>\n",
       "      <td>2025-09-01 14:27:37.581000+00:00</td>\n",
       "      <td>[]</td>\n",
       "      <td>{'uri': 'gs://ecochain-product-images/cocoa.jp...</td>\n",
       "    </tr>\n",
       "    <tr>\n",
       "      <th>2</th>\n",
       "      <td>gs://ecochain-product-images/coffe.jpeg</td>\n",
       "      <td>1756736864652577</td>\n",
       "      <td>image/jpeg</td>\n",
       "      <td>14107</td>\n",
       "      <td>85822d59d95c6492bb06801470153b9d</td>\n",
       "      <td>2025-09-01 14:27:46.601000+00:00</td>\n",
       "      <td>[]</td>\n",
       "      <td>{'uri': 'gs://ecochain-product-images/coffe.jp...</td>\n",
       "    </tr>\n",
       "    <tr>\n",
       "      <th>3</th>\n",
       "      <td>gs://ecochain-product-images/compostable paper...</td>\n",
       "      <td>1756736869649316</td>\n",
       "      <td>image/jpeg</td>\n",
       "      <td>8757</td>\n",
       "      <td>8afd92bbe2b6b5950b454d7271eeab12</td>\n",
       "      <td>2025-09-01 14:27:51.540000+00:00</td>\n",
       "      <td>[]</td>\n",
       "      <td>{'uri': 'gs://ecochain-product-images/composta...</td>\n",
       "    </tr>\n",
       "    <tr>\n",
       "      <th>4</th>\n",
       "      <td>gs://ecochain-product-images/eco paints.jpeg</td>\n",
       "      <td>1756736876051478</td>\n",
       "      <td>image/jpeg</td>\n",
       "      <td>6654</td>\n",
       "      <td>5d6bf7775a734e5a5499108013cefd1e</td>\n",
       "      <td>2025-09-01 14:27:58.087000+00:00</td>\n",
       "      <td>[]</td>\n",
       "      <td>{'uri': 'gs://ecochain-product-images/eco pain...</td>\n",
       "    </tr>\n",
       "  </tbody>\n",
       "</table>\n",
       "</div>"
      ],
      "text/plain": [
       "                                                 uri        generation  \\\n",
       "0  gs://ecochain-product-images/biodegradable det...  1756736837757144   \n",
       "1            gs://ecochain-product-images/cocoa.jpeg  1756736851255922   \n",
       "2            gs://ecochain-product-images/coffe.jpeg  1756736864652577   \n",
       "3  gs://ecochain-product-images/compostable paper...  1756736869649316   \n",
       "4       gs://ecochain-product-images/eco paints.jpeg  1756736876051478   \n",
       "\n",
       "  content_type   size                          md5_hash  \\\n",
       "0   image/jpeg   5103  76e2c9daef15f35e90e3bdb941a3b34f   \n",
       "1   image/jpeg  11895  6c95b9922058337e008d6d92134f7e27   \n",
       "2   image/jpeg  14107  85822d59d95c6492bb06801470153b9d   \n",
       "3   image/jpeg   8757  8afd92bbe2b6b5950b454d7271eeab12   \n",
       "4   image/jpeg   6654  5d6bf7775a734e5a5499108013cefd1e   \n",
       "\n",
       "                           updated metadata  \\\n",
       "0 2025-09-01 14:27:25.161000+00:00       []   \n",
       "1 2025-09-01 14:27:37.581000+00:00       []   \n",
       "2 2025-09-01 14:27:46.601000+00:00       []   \n",
       "3 2025-09-01 14:27:51.540000+00:00       []   \n",
       "4 2025-09-01 14:27:58.087000+00:00       []   \n",
       "\n",
       "                                                 ref  \n",
       "0  {'uri': 'gs://ecochain-product-images/biodegra...  \n",
       "1  {'uri': 'gs://ecochain-product-images/cocoa.jp...  \n",
       "2  {'uri': 'gs://ecochain-product-images/coffe.jp...  \n",
       "3  {'uri': 'gs://ecochain-product-images/composta...  \n",
       "4  {'uri': 'gs://ecochain-product-images/eco pain...  "
      ]
     },
     "execution_count": 17,
     "metadata": {},
     "output_type": "execute_result"
    }
   ],
   "source": [
    "%%bigquery --project {PROJECT_ID}\n",
    "\n",
    "SELECT * \n",
    "FROM `ecochain123.supplychain.object_images`\n",
    "LIMIT 5;"
   ]
  },
  {
   "cell_type": "code",
   "execution_count": 51,
   "id": "7e7a1c5f-5da0-4909-8010-1c7ab51a2a43",
   "metadata": {},
   "outputs": [
    {
     "data": {
      "application/vnd.jupyter.widget-view+json": {
       "model_id": "2cdbc5db4bb6469f97952d2eff791763",
       "version_major": 2,
       "version_minor": 0
      },
      "text/plain": [
       "Query is running:   0%|          |"
      ]
     },
     "metadata": {},
     "output_type": "display_data"
    },
    {
     "data": {
      "text/html": [
       "<div>\n",
       "<style scoped>\n",
       "    .dataframe tbody tr th:only-of-type {\n",
       "        vertical-align: middle;\n",
       "    }\n",
       "\n",
       "    .dataframe tbody tr th {\n",
       "        vertical-align: top;\n",
       "    }\n",
       "\n",
       "    .dataframe thead th {\n",
       "        text-align: right;\n",
       "    }\n",
       "</style>\n",
       "<table border=\"1\" class=\"dataframe\">\n",
       "  <thead>\n",
       "    <tr style=\"text-align: right;\">\n",
       "      <th></th>\n",
       "    </tr>\n",
       "  </thead>\n",
       "  <tbody>\n",
       "  </tbody>\n",
       "</table>\n",
       "</div>"
      ],
      "text/plain": [
       "Empty DataFrame\n",
       "Columns: []\n",
       "Index: []"
      ]
     },
     "execution_count": 51,
     "metadata": {},
     "output_type": "execute_result"
    }
   ],
   "source": [
    "%%bigquery --project {PROJECT_ID}\n",
    "\n",
    "CREATE OR REPLACE TABLE `ecochain123.supplychain.suppliers_with_images` AS\n",
    "SELECT\n",
    "  s.*,\n",
    "  o.uri AS image_url\n",
    "FROM\n",
    "  `ecochain123.supplychain.suppliers` AS s\n",
    "LEFT JOIN\n",
    "  `ecochain123.supplychain.object_images` AS o\n",
    "ON\n",
    "  -- Normalize sub_category\n",
    "  REGEXP_REPLACE(\n",
    "    REGEXP_REPLACE(LOWER(TRIM(s.sub_category)), r'[^a-z0-9 ]', ''),  -- remove punctuation\n",
    "    r' +', ' '  -- collapse multiple spaces\n",
    "  )\n",
    "  =\n",
    "  -- Normalize filename extracted from URI\n",
    "  REGEXP_REPLACE(\n",
    "    REGEXP_REPLACE(\n",
    "      LOWER(TRIM(REGEXP_EXTRACT(o.uri, r'.*/([^/]+)\\.(?:jpeg|jpg|png)$'))),  -- only 1 capturing group now\n",
    "      r'[^a-z0-9 ]', ''  -- remove punctuation\n",
    "    ),\n",
    "    r' +', ' '  -- collapse multiple spaces\n",
    "  )"
   ]
  },
  {
   "cell_type": "markdown",
   "id": "84cbe1bf-06ac-4967-ae2e-f9ad1587c73f",
   "metadata": {},
   "source": [
    "WE HAVE SUCCESSFULLY CREATED THE IMAGE URLS AND ADDED IT TO THE DATASET "
   ]
  },
  {
   "cell_type": "code",
   "execution_count": 53,
   "id": "d7179aa9-df97-41cf-a305-f6c99c931627",
   "metadata": {},
   "outputs": [],
   "source": [
    "try:\n",
    "    query = '''\n",
    "        SELECT * FROM `ecochain123.supplychain.suppliers_with_images`\n",
    "        '''\n",
    "    df = client.query(query).to_dataframe()\n",
    "\n",
    "except Except as e:\n",
    "    print( f'AN ERROR OCCURRED: {e}')"
   ]
  },
  {
   "cell_type": "code",
   "execution_count": 55,
   "id": "62cee87c-0d65-41b7-9f25-a4c168980ee2",
   "metadata": {
    "scrolled": true
   },
   "outputs": [
    {
     "data": {
      "text/plain": [
       "supplier_id           0\n",
       "supplier_name         0\n",
       "country               0\n",
       "region                0\n",
       "product_category      0\n",
       "sub_category          0\n",
       "total_eco_score       0\n",
       "carbon_score          0\n",
       "water_score           0\n",
       "waste_score           0\n",
       "social_score          0\n",
       "certification         0\n",
       "partnership_status    0\n",
       "annual_volume         0\n",
       "cost_premium          0\n",
       "risk_level            0\n",
       "last_audit            0\n",
       "audit_summary         0\n",
       "text_embedding        0\n",
       "image_url             0\n",
       "dtype: int64"
      ]
     },
     "execution_count": 55,
     "metadata": {},
     "output_type": "execute_result"
    }
   ],
   "source": [
    "df.isnull().sum()"
   ]
  },
  {
   "cell_type": "markdown",
   "id": "dd8b9293-531d-4cc6-960d-522991ae3c0f",
   "metadata": {},
   "source": [
    "Now To add the recommendation column using AI.GENERATE_TABLE"
   ]
  },
  {
   "cell_type": "code",
   "execution_count": null,
   "id": "2ffbdd2f-4c50-4a0d-8f9a-ba07a33ef571",
   "metadata": {},
   "outputs": [
    {
     "data": {
      "application/vnd.jupyter.widget-view+json": {
       "model_id": "425a021a829d4c84a5b8c180b7f2e6d4",
       "version_major": 2,
       "version_minor": 0
      },
      "text/plain": [
       "Query is running:   0%|          |"
      ]
     },
     "metadata": {},
     "output_type": "display_data"
    }
   ],
   "source": [
    "%%bigquery --project {PROJECT_ID}\n",
    "\n",
    "CREATE OR REPLACE TABLE `ecochain123.supplychain.recommendation` AS\n",
    "SELECT\n",
    "  supplier_id,\n",
    "  total_eco_score,\n",
    "  Recommendation\n",
    "FROM\n",
    "  AI.GENERATE_TABLE(\n",
    "    MODEL `ecochain123.supplychain.gemini_model`,\n",
    "    (\n",
    "      SELECT\n",
    "        supplier_id,\n",
    "        total_eco_score,\n",
    "        CONCAT(\n",
    "          \"Using the following keywords (Preferred, Neutral, or Avoid) categorise this score. \",\n",
    "          \"If above 80, it is Preferred; \",\n",
    "          \"If between 50 and 80, it is Neutral; \",\n",
    "          \"If below 50, it is Avoid. \",\n",
    "          \"Score: \", CAST(total_eco_score AS STRING)\n",
    "        ) AS prompt\n",
    "      FROM \n",
    "        `ecochain123.supplychain.suppliers_with_images`\n",
    "    ),\n",
    "    STRUCT(\"Recommendation STRING\" AS output_schema)\n",
    "  );\n"
   ]
  },
  {
   "cell_type": "code",
   "execution_count": 8,
   "id": "59dd1d4e-86c3-4915-aca0-02b45196f2b8",
   "metadata": {},
   "outputs": [
    {
     "data": {
      "application/vnd.jupyter.widget-view+json": {
       "model_id": "89962a2d00c742b496343068cfba4b7c",
       "version_major": 2,
       "version_minor": 0
      },
      "text/plain": [
       "Query is running:   0%|          |"
      ]
     },
     "metadata": {},
     "output_type": "display_data"
    },
    {
     "data": {
      "text/html": [
       "<div>\n",
       "<style scoped>\n",
       "    .dataframe tbody tr th:only-of-type {\n",
       "        vertical-align: middle;\n",
       "    }\n",
       "\n",
       "    .dataframe tbody tr th {\n",
       "        vertical-align: top;\n",
       "    }\n",
       "\n",
       "    .dataframe thead th {\n",
       "        text-align: right;\n",
       "    }\n",
       "</style>\n",
       "<table border=\"1\" class=\"dataframe\">\n",
       "  <thead>\n",
       "    <tr style=\"text-align: right;\">\n",
       "      <th></th>\n",
       "    </tr>\n",
       "  </thead>\n",
       "  <tbody>\n",
       "  </tbody>\n",
       "</table>\n",
       "</div>"
      ],
      "text/plain": [
       "Empty DataFrame\n",
       "Columns: []\n",
       "Index: []"
      ]
     },
     "execution_count": 8,
     "metadata": {},
     "output_type": "execute_result"
    }
   ],
   "source": [
    "%%bigquery --project {PROJECT_ID}\n",
    "\n",
    "ALTER TABLE `ecochain123.supplychain.suppliers_with_images`\n",
    "ADD COLUMN Recommendation STRING;"
   ]
  },
  {
   "cell_type": "code",
   "execution_count": 9,
   "id": "004ab56c-bc30-48c5-bed9-6c37a5027e34",
   "metadata": {},
   "outputs": [
    {
     "data": {
      "application/vnd.jupyter.widget-view+json": {
       "model_id": "4ce05e8b7882472dac4d9fa1e9682e36",
       "version_major": 2,
       "version_minor": 0
      },
      "text/plain": [
       "Query is running:   0%|          |"
      ]
     },
     "metadata": {},
     "output_type": "display_data"
    },
    {
     "data": {
      "text/html": [
       "<div>\n",
       "<style scoped>\n",
       "    .dataframe tbody tr th:only-of-type {\n",
       "        vertical-align: middle;\n",
       "    }\n",
       "\n",
       "    .dataframe tbody tr th {\n",
       "        vertical-align: top;\n",
       "    }\n",
       "\n",
       "    .dataframe thead th {\n",
       "        text-align: right;\n",
       "    }\n",
       "</style>\n",
       "<table border=\"1\" class=\"dataframe\">\n",
       "  <thead>\n",
       "    <tr style=\"text-align: right;\">\n",
       "      <th></th>\n",
       "    </tr>\n",
       "  </thead>\n",
       "  <tbody>\n",
       "  </tbody>\n",
       "</table>\n",
       "</div>"
      ],
      "text/plain": [
       "Empty DataFrame\n",
       "Columns: []\n",
       "Index: []"
      ]
     },
     "execution_count": 9,
     "metadata": {},
     "output_type": "execute_result"
    }
   ],
   "source": [
    "%%bigquery --project {PROJECT_ID}\n",
    "\n",
    "UPDATE `ecochain123.supplychain.suppliers_with_images` t\n",
    "SET t.Recommendation = s.Recommendation\n",
    "FROM `ecochain123.supplychain.recommendation` s\n",
    "WHERE t.supplier_id = s.supplier_id;"
   ]
  }
 ],
 "metadata": {
  "kernelspec": {
   "display_name": "Python (churn)",
   "language": "python",
   "name": "churn"
  },
  "language_info": {
   "codemirror_mode": {
    "name": "ipython",
    "version": 3
   },
   "file_extension": ".py",
   "mimetype": "text/x-python",
   "name": "python",
   "nbconvert_exporter": "python",
   "pygments_lexer": "ipython3",
   "version": "3.12.10"
  }
 },
 "nbformat": 4,
 "nbformat_minor": 5
}
